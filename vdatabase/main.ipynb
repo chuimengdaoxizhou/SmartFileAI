{
 "cells": [
  {
   "metadata": {
    "ExecuteTime": {
     "end_time": "2025-04-16T03:35:01.048811Z",
     "start_time": "2025-04-16T03:35:01.045938Z"
    }
   },
   "cell_type": "code",
   "source": [
    "from milvus import Milvus\n",
    "from File import Data\n"
   ],
   "id": "25ea9c090b806824",
   "outputs": [],
   "execution_count": 3
  },
  {
   "metadata": {
    "ExecuteTime": {
     "end_time": "2025-04-16T03:35:41.720538Z",
     "start_time": "2025-04-16T03:35:02.461165Z"
    }
   },
   "cell_type": "code",
   "source": [
    "f = Data()\n",
    "m = Milvus()\n",
    "\n",
    "path = \"/home/chenyun/下载/train1.json\"\n"
   ],
   "id": "b0021032cb0d0970",
   "outputs": [
    {
     "name": "stdout",
     "output_type": "stream",
     "text": [
      "初始化Milvus\n",
      "1744774502.4625704: 检查连接状态...\n",
      "尝试连接到 Milvus...\n",
      "1744774502.4626005: 进入锁，准备连接...\n",
      "1744774502.468868: 连接成功完成！\n",
      "初始化，将数据加载到内存\n",
      "开始加载模型\n"
     ]
    },
    {
     "name": "stderr",
     "output_type": "stream",
     "text": [
      "/home/chenyun/program/python/envs/neumai/lib/python3.11/site-packages/tqdm/auto.py:21: TqdmWarning: IProgress not found. Please update jupyter and ipywidgets. See https://ipywidgets.readthedocs.io/en/stable/user_install.html\n",
      "  from .autonotebook import tqdm as notebook_tqdm\n"
     ]
    },
    {
     "name": "stdout",
     "output_type": "stream",
     "text": [
      "加载模型完成\n",
      "初始化完成\n"
     ]
    }
   ],
   "execution_count": 4
  },
  {
   "metadata": {
    "ExecuteTime": {
     "end_time": "2025-04-16T03:37:25.325939Z",
     "start_time": "2025-04-16T03:37:23.318375Z"
    }
   },
   "cell_type": "code",
   "source": [
    "data = f.readFile(path)\n",
    "m.storejson(data)\n"
   ],
   "id": "d9077ac45474c308",
   "outputs": [
    {
     "name": "stdout",
     "output_type": "stream",
     "text": [
      "获取数据 JSON\n",
      "尝试解析\n",
      "打开文件\n",
      "开始解析\n",
      "解析成功\n",
      "检查是否连接\n",
      "1744774643.3212512: 检查连接状态...\n",
      "1744774643.3212736: 已经连接到 Milvus。\n",
      "存储失败: list indices must be integers or slices, not str\n"
     ]
    },
    {
     "data": {
      "text/plain": [
       "False"
      ]
     },
     "execution_count": 5,
     "metadata": {},
     "output_type": "execute_result"
    }
   ],
   "execution_count": 5
  },
  {
   "metadata": {
    "ExecuteTime": {
     "end_time": "2025-04-16T03:37:42.594209Z",
     "start_time": "2025-04-16T03:37:35.056349Z"
    }
   },
   "cell_type": "code",
   "source": [
    "from milvus import Milvus\n",
    "m = Milvus()\n",
    "data = m.getcollections()\n",
    "print(data)\n"
   ],
   "id": "5791b9101c852d5e",
   "outputs": [
    {
     "name": "stdout",
     "output_type": "stream",
     "text": [
      "初始化Milvus\n",
      "1744774655.0575771: 检查连接状态...\n",
      "1744774655.0575914: 已经连接到 Milvus。\n",
      "初始化，将数据加载到内存\n",
      "开始加载模型\n",
      "加载模型完成\n",
      "初始化完成\n",
      "1744774661.8308208: 关闭Milvus\n",
      "1744774661.8308315: 开始关闭milvus\n",
      "1744774661.8308368: 尝试释放内存和断开连接\n",
      "1744774661.8308423: 释放集合...\n",
      "1744774662.440364: 集合已释放\n",
      "1744774662.4404657: 断开连接...\n",
      "1744774662.4410572: 已断开连接\n",
      "1744774662.4410727: close 方法完成\n",
      "1744774662.4410796: 关闭完成\n"
     ]
    },
    {
     "ename": "ConnectionNotExistException",
     "evalue": "<ConnectionNotExistException: (code=1, message=should create connection first.)>",
     "output_type": "error",
     "traceback": [
      "\u001B[0;31m---------------------------------------------------------------------------\u001B[0m",
      "\u001B[0;31mConnectionNotExistException\u001B[0m               Traceback (most recent call last)",
      "Cell \u001B[0;32mIn[6], line 3\u001B[0m\n\u001B[1;32m      1\u001B[0m \u001B[38;5;28;01mfrom\u001B[39;00m \u001B[38;5;21;01mmilvus\u001B[39;00m \u001B[38;5;28;01mimport\u001B[39;00m Milvus\n\u001B[1;32m      2\u001B[0m m \u001B[38;5;241m=\u001B[39m Milvus()\n\u001B[0;32m----> 3\u001B[0m data \u001B[38;5;241m=\u001B[39m m\u001B[38;5;241m.\u001B[39mgetcollections()\n\u001B[1;32m      4\u001B[0m \u001B[38;5;28mprint\u001B[39m(data)\n",
      "File \u001B[0;32m~/program/python/vdatabase/milvus/vector.py:71\u001B[0m, in \u001B[0;36mMilvus.getcollections\u001B[0;34m(self)\u001B[0m\n\u001B[1;32m     69\u001B[0m \u001B[38;5;28;01mdef\u001B[39;00m \u001B[38;5;21mgetcollections\u001B[39m(\u001B[38;5;28mself\u001B[39m):\n\u001B[1;32m     70\u001B[0m     \u001B[38;5;28;01mwith\u001B[39;00m \u001B[38;5;28mself\u001B[39m\u001B[38;5;241m.\u001B[39mlock:\n\u001B[0;32m---> 71\u001B[0m         collections \u001B[38;5;241m=\u001B[39m utility\u001B[38;5;241m.\u001B[39mlist_collections()\n\u001B[1;32m     72\u001B[0m         \u001B[38;5;28;01mreturn\u001B[39;00m collections\n",
      "File \u001B[0;32m~/program/python/envs/neumai/lib/python3.11/site-packages/pymilvus/orm/utility.py:558\u001B[0m, in \u001B[0;36mlist_collections\u001B[0;34m(timeout, using)\u001B[0m\n\u001B[1;32m    535\u001B[0m \u001B[38;5;28;01mdef\u001B[39;00m \u001B[38;5;21mlist_collections\u001B[39m(timeout: Optional[\u001B[38;5;28mfloat\u001B[39m] \u001B[38;5;241m=\u001B[39m \u001B[38;5;28;01mNone\u001B[39;00m, using: \u001B[38;5;28mstr\u001B[39m \u001B[38;5;241m=\u001B[39m \u001B[38;5;124m\"\u001B[39m\u001B[38;5;124mdefault\u001B[39m\u001B[38;5;124m\"\u001B[39m) \u001B[38;5;241m-\u001B[39m\u001B[38;5;241m>\u001B[39m \u001B[38;5;28mlist\u001B[39m:\n\u001B[1;32m    536\u001B[0m \u001B[38;5;250m    \u001B[39m\u001B[38;5;124;03m\"\"\"\u001B[39;00m\n\u001B[1;32m    537\u001B[0m \u001B[38;5;124;03m    Returns a list of all collection names.\u001B[39;00m\n\u001B[1;32m    538\u001B[0m \n\u001B[0;32m   (...)\u001B[0m\n\u001B[1;32m    556\u001B[0m \u001B[38;5;124;03m        >>> utility.list_collections()\u001B[39;00m\n\u001B[1;32m    557\u001B[0m \u001B[38;5;124;03m    \"\"\"\u001B[39;00m\n\u001B[0;32m--> 558\u001B[0m     \u001B[38;5;28;01mreturn\u001B[39;00m _get_connection(using)\u001B[38;5;241m.\u001B[39mlist_collections(timeout\u001B[38;5;241m=\u001B[39mtimeout)\n",
      "File \u001B[0;32m~/program/python/envs/neumai/lib/python3.11/site-packages/pymilvus/orm/utility.py:176\u001B[0m, in \u001B[0;36m_get_connection\u001B[0;34m(alias)\u001B[0m\n\u001B[1;32m    175\u001B[0m \u001B[38;5;28;01mdef\u001B[39;00m \u001B[38;5;21m_get_connection\u001B[39m(alias: \u001B[38;5;28mstr\u001B[39m):\n\u001B[0;32m--> 176\u001B[0m     \u001B[38;5;28;01mreturn\u001B[39;00m connections\u001B[38;5;241m.\u001B[39m_fetch_handler(alias)\n",
      "File \u001B[0;32m~/program/python/envs/neumai/lib/python3.11/site-packages/pymilvus/orm/connections.py:554\u001B[0m, in \u001B[0;36mConnections._fetch_handler\u001B[0;34m(self, alias)\u001B[0m\n\u001B[1;32m    552\u001B[0m conn \u001B[38;5;241m=\u001B[39m \u001B[38;5;28mself\u001B[39m\u001B[38;5;241m.\u001B[39m_connected_alias\u001B[38;5;241m.\u001B[39mget(alias, \u001B[38;5;28;01mNone\u001B[39;00m)\n\u001B[1;32m    553\u001B[0m \u001B[38;5;28;01mif\u001B[39;00m conn \u001B[38;5;129;01mis\u001B[39;00m \u001B[38;5;28;01mNone\u001B[39;00m:\n\u001B[0;32m--> 554\u001B[0m     \u001B[38;5;28;01mraise\u001B[39;00m ConnectionNotExistException(message\u001B[38;5;241m=\u001B[39mExceptionsMessage\u001B[38;5;241m.\u001B[39mConnectFirst)\n\u001B[1;32m    556\u001B[0m \u001B[38;5;28;01mreturn\u001B[39;00m conn\n",
      "\u001B[0;31mConnectionNotExistException\u001B[0m: <ConnectionNotExistException: (code=1, message=should create connection first.)>"
     ]
    }
   ],
   "execution_count": 6
  },
  {
   "metadata": {
    "ExecuteTime": {
     "end_time": "2025-03-21T08:42:06.218836Z",
     "start_time": "2025-03-21T08:42:06.167847Z"
    }
   },
   "cell_type": "code",
   "source": "m.deletecollections()",
   "id": "1669b24b693a437b",
   "outputs": [],
   "execution_count": 2
  },
  {
   "metadata": {
    "ExecuteTime": {
     "end_time": "2025-03-21T08:42:07.178193Z",
     "start_time": "2025-03-21T08:42:07.174096Z"
    }
   },
   "cell_type": "code",
   "source": [
    "data = m.getcollections()\n",
    "print(data)"
   ],
   "id": "1eff78101e2312a0",
   "outputs": [
    {
     "name": "stdout",
     "output_type": "stream",
     "text": [
      "[]\n"
     ]
    }
   ],
   "execution_count": 3
  },
  {
   "metadata": {
    "ExecuteTime": {
     "end_time": "2025-03-21T07:48:08.430740Z",
     "start_time": "2025-03-21T07:48:08.425782Z"
    }
   },
   "cell_type": "code",
   "source": "from allgrpc import client\n",
   "id": "22565da403ff6447",
   "outputs": [],
   "execution_count": 4
  },
  {
   "metadata": {
    "ExecuteTime": {
     "end_time": "2025-03-21T07:48:09.309062Z",
     "start_time": "2025-03-21T07:48:09.233242Z"
    }
   },
   "cell_type": "code",
   "source": [
    "prompt = \"申报学术成果激励的学术成果有什么限制？\"\n",
    "resutlt = client.getdata(prompt)\n",
    "print(resutlt)"
   ],
   "id": "9e8090931db9dccf",
   "outputs": [
    {
     "name": "stdout",
     "output_type": "stream",
     "text": [
      "未找到匹配的结果\n",
      "None\n"
     ]
    }
   ],
   "execution_count": 5
  },
  {
   "metadata": {
    "ExecuteTime": {
     "end_time": "2025-03-21T07:48:10.109955Z",
     "start_time": "2025-03-21T07:48:10.058079Z"
    }
   },
   "cell_type": "code",
   "source": [
    "prompt = \"课程考核成绩的记载一般采用哪种方式？\"\n",
    "resutlt = client.getdata(prompt)\n",
    "print(resutlt)"
   ],
   "id": "4d8f6f98233cad97",
   "outputs": [
    {
     "name": "stdout",
     "output_type": "stream",
     "text": [
      "未找到匹配的结果\n",
      "None\n"
     ]
    }
   ],
   "execution_count": 6
  },
  {
   "metadata": {},
   "cell_type": "code",
   "outputs": [],
   "execution_count": null,
   "source": [
    "path = \"/home/chenyun/下载/train2.json\"\n",
    "flag = client.updata(path)\n",
    "print(flag)"
   ],
   "id": "3683be51838a192e"
  },
  {
   "metadata": {
    "ExecuteTime": {
     "end_time": "2025-03-21T08:16:24.198918Z",
     "start_time": "2025-03-21T08:16:24.195387Z"
    }
   },
   "cell_type": "code",
   "source": [
    "import json\n",
    "\n",
    "json_data =  \"/home/chenyun/下载/train3.json\"\n",
    "try:\n",
    "    data = json.loads(json_data)\n",
    "    print(\"JSON 格式正确！\")\n",
    "except json.JSONDecodeError as e:\n",
    "    print(f\"JSON 格式错误: {e}\")\n"
   ],
   "id": "2383c662f8fed8b7",
   "outputs": [
    {
     "name": "stdout",
     "output_type": "stream",
     "text": [
      "JSON 格式错误: Expecting value: line 1 column 1 (char 0)\n"
     ]
    }
   ],
   "execution_count": 7
  },
  {
   "metadata": {},
   "cell_type": "code",
   "outputs": [],
   "execution_count": null,
   "source": "",
   "id": "3b749319321641be"
  }
 ],
 "metadata": {
  "kernelspec": {
   "name": "python3",
   "language": "python",
   "display_name": "Python 3 (ipykernel)"
  }
 },
 "nbformat": 5,
 "nbformat_minor": 9
}
